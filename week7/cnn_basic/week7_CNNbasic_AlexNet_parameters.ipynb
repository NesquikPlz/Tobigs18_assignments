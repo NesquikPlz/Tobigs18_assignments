{
  "cells": [
    {
      "cell_type": "markdown",
      "metadata": {
        "id": "yclCebBQFn2I"
      },
      "source": [
        "# CNNbasic Assignment#1\n",
        "\n",
        "\n",
        "마크다운과 코드 속 `???` 를 채워주시면 됩니다!-!\n",
        "\n",
        "\n",
        "# AlexNet\n",
        "\n",
        "모델 구조 사진과 논문 사이트입니다.\n",
        "\n",
        "- paper: http://www.cs.toronto.edu/~fritz/absps/imagenet.pdf\n",
        "\n",
        "- dataset: http://image-net.org/challenges/LSVRC/2012/index#task\n",
        "\n",
        "- Model architecture\n",
        "\n",
        "![model_architecture2](https://t1.daumcdn.net/cfile/tistory/99FEB93C5C80B5192E)\n",
        "\n",
        "The second convolutional layer takes as input the (response-normalized\n",
        "and pooled) output of the first convolutional layer and filters it with 256 kernels of size 5 × 5 × 48.\n",
        "The third, fourth, and fifth convolutional layers are connected to one another without any intervening\n",
        "pooling or normalization layers. The third convolutional layer has 384 kernels of size 3 × 3 ×\n",
        "256 connected to the (normalized, pooled) outputs of the second convolutional layer. The fourth\n",
        "convolutional layer has 384 kernels of size 3 × 3 × 192 , and the fifth convolutional layer has 256\n",
        "kernels of size 3 × 3 × 192. The fully-connected layers have 4096 neurons each.\n",
        "\n",
        "\n",
        "### Naive Version\n",
        "CONV_1 - POOL_1 - CONV_2 - POOL_2 - CONV_3 - CONV_4 - CONV_5 - POOL_3 - FC1 - FC2 - FC3 (->SOFTMAX)\n",
        "\n",
        "### detailed\n",
        "CONV_1(ReLU) - POOL_1 - CONV_2(ReLU) - POOL_2 - CONV_3(ReLU) - CONV_4(ReLU) - CONV_5(ReLU) - POOL_3 -(Flatten) FC1(ReLU) - FC2(ReLU) - FC3(->SOFTMAX)"
      ]
    },
    {
      "cell_type": "markdown",
      "metadata": {
        "id": "exDZxL9QFn2L"
      },
      "source": [
        "## Layer 1 is a Convolution Layer_1\n",
        "\n",
        "- **Input Image size**     `3 * 227 * 227`\n",
        "\n",
        "- **Number of filters**     `96`\n",
        "\n",
        "- **Filter size**     `11 * 11`\n",
        "\n",
        "- **Stride**     `4`\n",
        "\n",
        "- **Layer 1 Output**     `96 * 55 * 55`"
      ]
    },
    {
      "cell_type": "code",
      "execution_count": 2,
      "metadata": {
        "colab": {
          "base_uri": "https://localhost:8080/"
        },
        "id": "kCyclWvXz759",
        "outputId": "729f42ed-f844-46ee-9d4d-0d6c3eaeed66"
      },
      "outputs": [
        {
          "output_type": "execute_result",
          "data": {
            "text/plain": [
              "34944"
            ]
          },
          "metadata": {},
          "execution_count": 2
        }
      ],
      "source": [
        "## TODO ##\n",
        "\n",
        "######################################################\n",
        "#  Calculate the number of parameters in this layer  #\n",
        "######################################################\n",
        "\n",
        "Conv_1 = (11 * 11 * 3) * 96 + 96\n",
        "Conv_1\n",
        "# '''Don't forget to include Bias'''"
      ]
    },
    {
      "cell_type": "markdown",
      "metadata": {
        "id": "XvlIbO-uFn2V"
      },
      "source": [
        "## Layer 2 is a Max Pooling_1 Followed by Convolution_1\n",
        "\n",
        "- **Input**     `96 * 55 * 55`\n",
        "\n",
        "- **Max pooling**     \n",
        "\n",
        "- **Pooling size** (overlapping)      `3 * 3`\n",
        "\n",
        "    * overlapping 중첩되어서 지나감\n",
        "\n",
        "- **Stride**     `2`\n",
        "\n",
        "- **Layer 2 Output**     `96 * 27 * 27`\n",
        "    \n",
        "    * 차원은 변함 없음"
      ]
    },
    {
      "cell_type": "code",
      "execution_count": 3,
      "metadata": {
        "colab": {
          "base_uri": "https://localhost:8080/"
        },
        "id": "63dFAB3-z75-",
        "outputId": "38f5810d-c01c-4261-898d-f2f49c924783"
      },
      "outputs": [
        {
          "output_type": "execute_result",
          "data": {
            "text/plain": [
              "0"
            ]
          },
          "metadata": {},
          "execution_count": 3
        }
      ],
      "source": [
        "## TODO \n",
        "\n",
        "######################################################\n",
        "#  Calculate the number of parameters in this layer  #\n",
        "######################################################\n",
        "\n",
        "Max_pool_1 = 0\n",
        "Max_pool_1"
      ]
    },
    {
      "cell_type": "markdown",
      "metadata": {
        "id": "r70OGeViFn2Z"
      },
      "source": [
        "## Layer 3 is a Convolution Layer_2\n",
        "\n",
        "- **Input**     `96 * 27 * 27`\n",
        "\n",
        "- **Number of filters**     `256`\n",
        "\n",
        "- **Filter size**     `5 * 5`\n",
        "\n",
        "- **Stride**     `1`\n",
        "\n",
        "- **padding**     `1`\n",
        "\n",
        "- **Layer 3 Output**     `256 * 27 * 27`"
      ]
    },
    {
      "cell_type": "code",
      "execution_count": 4,
      "metadata": {
        "colab": {
          "base_uri": "https://localhost:8080/"
        },
        "id": "znI3CZZez75-",
        "outputId": "5bef2b03-4e08-4246-92e6-0ffa12fc2466"
      },
      "outputs": [
        {
          "output_type": "execute_result",
          "data": {
            "text/plain": [
              "614656"
            ]
          },
          "metadata": {},
          "execution_count": 4
        }
      ],
      "source": [
        "## TODO \n",
        "\n",
        "######################################################\n",
        "#  Calculate the number of parameters in this layer  #\n",
        "######################################################\n",
        "\n",
        "Conv_2 = (5 * 5 * 96) * 256 + 256\n",
        "Conv_2"
      ]
    },
    {
      "cell_type": "markdown",
      "metadata": {
        "id": "DQZhwY4eFn2e"
      },
      "source": [
        "## Layer 4 is a Max Pooling_2 Followed by Convolution_2\n",
        "\n",
        "- **Input**     `256 * 27 * 27`\n",
        "\n",
        "- **Max pooling**     \n",
        "\n",
        "- **Pooling size**(overlapping)     `3 * 3`\n",
        "\n",
        "- **Stride**     `2`\n",
        "\n",
        "- **Layer 4 Output**     `256 * 13 * 13`"
      ]
    },
    {
      "cell_type": "code",
      "execution_count": 5,
      "metadata": {
        "colab": {
          "base_uri": "https://localhost:8080/"
        },
        "id": "Zv_Z3bTkz75_",
        "outputId": "3dc99548-d3d4-4e2a-916e-3d9cb4fae730"
      },
      "outputs": [
        {
          "output_type": "execute_result",
          "data": {
            "text/plain": [
              "0"
            ]
          },
          "metadata": {},
          "execution_count": 5
        }
      ],
      "source": [
        "## TODO \n",
        "\n",
        "######################################################\n",
        "#  Calculate the number of parameters in this layer  #\n",
        "######################################################\n",
        "\n",
        "Max_pool_2 = 0\n",
        "Max_pool_2"
      ]
    },
    {
      "cell_type": "markdown",
      "metadata": {
        "id": "xPm4PRFAFn2i"
      },
      "source": [
        "## Layer 5 is a Convolution Layer_3\n",
        "\n",
        "- **Input**     `256 * 13 * 13`\n",
        "\n",
        "- **Number of filters**     `384`\n",
        "\n",
        "- **Filter size**     `3 * 3`\n",
        "\n",
        "- **Stride**     `1`\n",
        "\n",
        "- **padding**     `2`\n",
        "\n",
        "- **Layer 5 Output**     `384 * 13 * 13`\n"
      ]
    },
    {
      "cell_type": "code",
      "execution_count": 6,
      "metadata": {
        "colab": {
          "base_uri": "https://localhost:8080/"
        },
        "id": "g3riins5z75_",
        "outputId": "e432395b-04f1-49ac-8aa3-5b2aa143d00a"
      },
      "outputs": [
        {
          "output_type": "execute_result",
          "data": {
            "text/plain": [
              "885120"
            ]
          },
          "metadata": {},
          "execution_count": 6
        }
      ],
      "source": [
        "## TODO \n",
        "\n",
        "######################################################\n",
        "#  Calculate the number of parameters in this layer  #\n",
        "######################################################\n",
        "\n",
        "Conv_3 = (3 * 3 * 256) * 384 + 384\n",
        "Conv_3"
      ]
    },
    {
      "cell_type": "markdown",
      "metadata": {
        "id": "Yv57b2vxFn2o"
      },
      "source": [
        "## Layer 6 is  a Convolution Layer_4\n",
        "\n",
        "- **Input**     `384 * 13 * 13`\n",
        "\n",
        "- **Number of filters**     `384`\n",
        "\n",
        "- **Filter size**     `3 * 3`\n",
        "\n",
        "- **Stride**     `1`\n",
        "\n",
        "- **padding**     `1`\n",
        "\n",
        "- **Layer 6 Output**     `384 * 13 * 13`"
      ]
    },
    {
      "cell_type": "code",
      "execution_count": 7,
      "metadata": {
        "colab": {
          "base_uri": "https://localhost:8080/"
        },
        "id": "yKI960HDz76A",
        "outputId": "f7340f95-2c22-4c0f-ca3f-f458223fe07f"
      },
      "outputs": [
        {
          "output_type": "execute_result",
          "data": {
            "text/plain": [
              "1327488"
            ]
          },
          "metadata": {},
          "execution_count": 7
        }
      ],
      "source": [
        "## TODO \n",
        "\n",
        "######################################################\n",
        "#  Calculate the number of parameters in this layer  #\n",
        "######################################################\n",
        "\n",
        "Conv_4 = (3 * 3 * 384) * 384 + 384\n",
        "Conv_4"
      ]
    },
    {
      "cell_type": "markdown",
      "metadata": {
        "id": "NiQL84J_Fn2s"
      },
      "source": [
        "## Layer 7 is a Convolution Layer_5\n",
        "\n",
        "- **Input**     `384 * 13 * 13`\n",
        "\n",
        "- **Number of filters**     `256`\n",
        "\n",
        "- **Filter size**     `3 * 3`\n",
        "\n",
        "- **Stride**     `1`\n",
        "\n",
        "- **padding**     `1`\n",
        "\n",
        "- **Layer 7 Output**     `256 * 13 * 13`"
      ]
    },
    {
      "cell_type": "code",
      "execution_count": 8,
      "metadata": {
        "colab": {
          "base_uri": "https://localhost:8080/"
        },
        "id": "w0dKlgzfz76A",
        "outputId": "f230ed27-0c5d-4ee8-d6b9-6d614fb981e1"
      },
      "outputs": [
        {
          "output_type": "execute_result",
          "data": {
            "text/plain": [
              "884992"
            ]
          },
          "metadata": {},
          "execution_count": 8
        }
      ],
      "source": [
        "## TODO \n",
        "\n",
        "######################################################\n",
        "#  Calculate the number of parameters in this layer  #\n",
        "######################################################\n",
        "\n",
        "Conv_5 = (3 * 3 * 384) * 256 + 256\n",
        "Conv_5"
      ]
    },
    {
      "cell_type": "markdown",
      "metadata": {
        "id": "WSTe-0IxFn2w"
      },
      "source": [
        "## Layer 8 is a Max Pooling_3 Followed by Convolution_5\n",
        "\n",
        "- **Input**     `256 * 13 * 13`\n",
        "\n",
        "- **Max pooling**       \n",
        "\n",
        "- **Pooling size**(overlapping)     `3 * 3`\n",
        "\n",
        "- **Stride**     `2`\n",
        "\n",
        "- **Layer 8 Output**     `256 * 6 * 6`"
      ]
    },
    {
      "cell_type": "code",
      "execution_count": 9,
      "metadata": {
        "colab": {
          "base_uri": "https://localhost:8080/"
        },
        "id": "OxebWfmAz76B",
        "outputId": "ac09330e-5850-4027-b351-d820b3c935e2"
      },
      "outputs": [
        {
          "output_type": "execute_result",
          "data": {
            "text/plain": [
              "0"
            ]
          },
          "metadata": {},
          "execution_count": 9
        }
      ],
      "source": [
        "## TODO \n",
        "\n",
        "######################################################\n",
        "#  Calculate the number of parameters in this layer  #\n",
        "######################################################\n",
        "\n",
        "Max_pool_3 = 0\n",
        "Max_pool_3"
      ]
    },
    {
      "cell_type": "markdown",
      "metadata": {
        "id": "798N3vBYFn21"
      },
      "source": [
        "## Layer 9 is a Fully_Connected layer_1\n",
        "\n",
        "- **input**     `256 * 6 * 6`\n",
        "\n",
        "- **flatten**     `4096`\n",
        "\n",
        "- **output size**     `6 * 6`\n",
        "\n",
        "- **N** Number of input data      `256`"
      ]
    },
    {
      "cell_type": "code",
      "execution_count": 11,
      "metadata": {
        "colab": {
          "base_uri": "https://localhost:8080/"
        },
        "id": "T_okbzrtz76B",
        "outputId": "161679f3-8d7e-457a-ee98-c740612b4c95"
      },
      "outputs": [
        {
          "output_type": "execute_result",
          "data": {
            "text/plain": [
              "37752832"
            ]
          },
          "metadata": {},
          "execution_count": 11
        }
      ],
      "source": [
        "## TODO \n",
        "\n",
        "######################################################\n",
        "#  Calculate the number of parameters in this layer  #\n",
        "######################################################\n",
        "\n",
        "FC1 = (6 * 6 * 256 * 4096) + 4096\n",
        "FC1"
      ]
    },
    {
      "cell_type": "markdown",
      "metadata": {
        "id": "kIfvpHPTFn25"
      },
      "source": [
        "## Layer 10 is a Fully_Connected layer_2\n",
        "\n",
        "- **input**     `4096`\n",
        "\n",
        "- **output size**     `4096`\n",
        "\n",
        "- **N** Number of input data =      `4096`"
      ]
    },
    {
      "cell_type": "code",
      "execution_count": 12,
      "metadata": {
        "colab": {
          "base_uri": "https://localhost:8080/"
        },
        "id": "zx-xYxnDz76C",
        "outputId": "3ebeefe7-570b-4788-c49a-1425e981f613"
      },
      "outputs": [
        {
          "output_type": "execute_result",
          "data": {
            "text/plain": [
              "16781312"
            ]
          },
          "metadata": {},
          "execution_count": 12
        }
      ],
      "source": [
        "## TODO \n",
        "\n",
        "######################################################\n",
        "#  Calculate the number of parameters in this layer  #\n",
        "######################################################\n",
        "\n",
        "FC2 = 4096 * 4096 + 4096\n",
        "FC2"
      ]
    },
    {
      "cell_type": "markdown",
      "metadata": {
        "id": "N8TaZQTBFn29"
      },
      "source": [
        "## Layer 11 is a Fully_Connected layer_3\n",
        "\n",
        "- **input**     `4096`\n",
        "\n",
        "- **output size**     `1000`\n",
        "\n",
        "- **N** Number of input data =      `4096`\n",
        "\n",
        "- **Num_classes** Number of labels =      `1000`"
      ]
    },
    {
      "cell_type": "code",
      "execution_count": 13,
      "metadata": {
        "colab": {
          "base_uri": "https://localhost:8080/"
        },
        "id": "oVhVQ7Nuz76C",
        "outputId": "c5f512e4-dd5c-43f4-c97b-1463662d7f05"
      },
      "outputs": [
        {
          "output_type": "execute_result",
          "data": {
            "text/plain": [
              "4097000"
            ]
          },
          "metadata": {},
          "execution_count": 13
        }
      ],
      "source": [
        "## TODO \n",
        "\n",
        "######################################################\n",
        "#  Calculate the number of parameters in this layer  #\n",
        "######################################################\n",
        "\n",
        "FC3 = 4096 * 1000 + 1000\n",
        "FC3"
      ]
    },
    {
      "cell_type": "code",
      "source": [],
      "metadata": {
        "id": "mUkb1FnLDBne"
      },
      "execution_count": null,
      "outputs": []
    }
  ],
  "metadata": {
    "colab": {
      "collapsed_sections": [],
      "provenance": []
    },
    "kernelspec": {
      "display_name": "Python 3",
      "language": "python",
      "name": "python3"
    },
    "language_info": {
      "codemirror_mode": {
        "name": "ipython",
        "version": 3
      },
      "file_extension": ".py",
      "mimetype": "text/x-python",
      "name": "python",
      "nbconvert_exporter": "python",
      "pygments_lexer": "ipython3",
      "version": "3.8.3"
    }
  },
  "nbformat": 4,
  "nbformat_minor": 0
}