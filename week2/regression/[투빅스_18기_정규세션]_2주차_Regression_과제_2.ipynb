{
  "cells": [
    {
      "cell_type": "markdown",
      "metadata": {
        "id": "oYVqHpHghxi1"
      },
      "source": [
        "# [과제 2] 회귀분석\n",
        "### - Ch 1, Ch 2를 토대로 자유롭게 회귀분석과 회귀진단을 진행해주세요.\n",
        "### - 주석으로 설명 및 근거 자세하게 달아주시면 감사하겠습니다. :)"
      ]
    },
    {
      "cell_type": "code",
      "execution_count": 1,
      "metadata": {
        "id": "F0T3iPmPhxi_"
      },
      "outputs": [],
      "source": [
        "%matplotlib inline \n",
        "\n",
        "import pandas as pd\n",
        "import numpy as np\n",
        "import matplotlib.pyplot as plt\n",
        "import seaborn as sns\n",
        "\n",
        "import warnings\n",
        "warnings.filterwarnings(action='ignore')"
      ]
    },
    {
      "cell_type": "markdown",
      "metadata": {
        "id": "P0uNO4d5hxjA"
      },
      "source": [
        "# Data "
      ]
    },
    {
      "cell_type": "markdown",
      "metadata": {
        "id": "3-xhqe55hxjB"
      },
      "source": [
        "데이터 출처 : https://www.kaggle.com/avikasliwal/used-cars-price-prediction "
      ]
    },
    {
      "cell_type": "markdown",
      "metadata": {
        "id": "NL9G4b7-hxjB"
      },
      "source": [
        "< y > \n",
        "* **Price** : The price of the used car in INR Lakhs.\n",
        "\n",
        "\n",
        "\n",
        "< X > \n",
        "* Name : The brand and model of the car\n",
        "* Location : The location in which the car is being sold or is available for purchase.\n",
        "* Year : The year or edition of the model.\n",
        "* Kilometers_Driven : The total kilometres driven in the car by the previous owner(s) in KM.\n",
        "* Fuel_Type : The type of fuel used by the car. (Petrol, Diesel, Electric, CNG, LPG)\n",
        "* Transmission : The type of transmission used by the car. (Automatic / Manual)\n",
        "* Owner_Type : Whether the ownership is Firsthand, Second hand or other.\n",
        "* Mileage : The standard mileage offered by the car company in kmpl or km/kg\n",
        "* Engine : The displacement volume of the engine in CC.\n",
        "* Power : The maximum power of the engine in bhp.\n",
        "* Seats : The number of seats in the car.\n",
        "* New_Price : The price of a new car of the same model."
      ]
    },
    {
      "cell_type": "code",
      "source": [
        "from google.colab import drive\n",
        "drive.mount('/content/drive')"
      ],
      "metadata": {
        "colab": {
          "base_uri": "https://localhost:8080/"
        },
        "id": "R-L5FmaTx91c",
        "outputId": "f6af6d6c-d098-45b1-a659-12e414532a50"
      },
      "execution_count": 3,
      "outputs": [
        {
          "output_type": "stream",
          "name": "stdout",
          "text": [
            "Mounted at /content/drive\n"
          ]
        }
      ]
    },
    {
      "cell_type": "markdown",
      "source": [
        "###data 불러오기"
      ],
      "metadata": {
        "id": "83aE5YqOyUbv"
      }
    },
    {
      "cell_type": "code",
      "execution_count": 4,
      "metadata": {
        "colab": {
          "base_uri": "https://localhost:8080/",
          "height": 461
        },
        "id": "4erq13F3hxjC",
        "outputId": "4ff47a7b-294a-4b87-b57f-1cc8339ee335"
      },
      "outputs": [
        {
          "output_type": "execute_result",
          "data": {
            "text/plain": [
              "   Unnamed: 0                              Name    Location  Year  \\\n",
              "0           0            Maruti Wagon R LXI CNG      Mumbai  2010   \n",
              "1           1  Hyundai Creta 1.6 CRDi SX Option        Pune  2015   \n",
              "2           2                      Honda Jazz V     Chennai  2011   \n",
              "3           3                 Maruti Ertiga VDI     Chennai  2012   \n",
              "4           4   Audi A4 New 2.0 TDI Multitronic  Coimbatore  2013   \n",
              "\n",
              "   Kilometers_Driven Fuel_Type Transmission Owner_Type     Mileage   Engine  \\\n",
              "0              72000       CNG       Manual      First  26.6 km/kg   998 CC   \n",
              "1              41000    Diesel       Manual      First  19.67 kmpl  1582 CC   \n",
              "2              46000    Petrol       Manual      First   18.2 kmpl  1199 CC   \n",
              "3              87000    Diesel       Manual      First  20.77 kmpl  1248 CC   \n",
              "4              40670    Diesel    Automatic     Second   15.2 kmpl  1968 CC   \n",
              "\n",
              "       Power  Seats  New_Price  Price  \n",
              "0  58.16 bhp    5.0        NaN   1.75  \n",
              "1  126.2 bhp    5.0        NaN  12.50  \n",
              "2   88.7 bhp    5.0  8.61 Lakh   4.50  \n",
              "3  88.76 bhp    7.0        NaN   6.00  \n",
              "4  140.8 bhp    5.0        NaN  17.74  "
            ],
            "text/html": [
              "\n",
              "  <div id=\"df-465b9f02-2f8f-4f7b-8150-65b524adcbae\">\n",
              "    <div class=\"colab-df-container\">\n",
              "      <div>\n",
              "<style scoped>\n",
              "    .dataframe tbody tr th:only-of-type {\n",
              "        vertical-align: middle;\n",
              "    }\n",
              "\n",
              "    .dataframe tbody tr th {\n",
              "        vertical-align: top;\n",
              "    }\n",
              "\n",
              "    .dataframe thead th {\n",
              "        text-align: right;\n",
              "    }\n",
              "</style>\n",
              "<table border=\"1\" class=\"dataframe\">\n",
              "  <thead>\n",
              "    <tr style=\"text-align: right;\">\n",
              "      <th></th>\n",
              "      <th>Unnamed: 0</th>\n",
              "      <th>Name</th>\n",
              "      <th>Location</th>\n",
              "      <th>Year</th>\n",
              "      <th>Kilometers_Driven</th>\n",
              "      <th>Fuel_Type</th>\n",
              "      <th>Transmission</th>\n",
              "      <th>Owner_Type</th>\n",
              "      <th>Mileage</th>\n",
              "      <th>Engine</th>\n",
              "      <th>Power</th>\n",
              "      <th>Seats</th>\n",
              "      <th>New_Price</th>\n",
              "      <th>Price</th>\n",
              "    </tr>\n",
              "  </thead>\n",
              "  <tbody>\n",
              "    <tr>\n",
              "      <th>0</th>\n",
              "      <td>0</td>\n",
              "      <td>Maruti Wagon R LXI CNG</td>\n",
              "      <td>Mumbai</td>\n",
              "      <td>2010</td>\n",
              "      <td>72000</td>\n",
              "      <td>CNG</td>\n",
              "      <td>Manual</td>\n",
              "      <td>First</td>\n",
              "      <td>26.6 km/kg</td>\n",
              "      <td>998 CC</td>\n",
              "      <td>58.16 bhp</td>\n",
              "      <td>5.0</td>\n",
              "      <td>NaN</td>\n",
              "      <td>1.75</td>\n",
              "    </tr>\n",
              "    <tr>\n",
              "      <th>1</th>\n",
              "      <td>1</td>\n",
              "      <td>Hyundai Creta 1.6 CRDi SX Option</td>\n",
              "      <td>Pune</td>\n",
              "      <td>2015</td>\n",
              "      <td>41000</td>\n",
              "      <td>Diesel</td>\n",
              "      <td>Manual</td>\n",
              "      <td>First</td>\n",
              "      <td>19.67 kmpl</td>\n",
              "      <td>1582 CC</td>\n",
              "      <td>126.2 bhp</td>\n",
              "      <td>5.0</td>\n",
              "      <td>NaN</td>\n",
              "      <td>12.50</td>\n",
              "    </tr>\n",
              "    <tr>\n",
              "      <th>2</th>\n",
              "      <td>2</td>\n",
              "      <td>Honda Jazz V</td>\n",
              "      <td>Chennai</td>\n",
              "      <td>2011</td>\n",
              "      <td>46000</td>\n",
              "      <td>Petrol</td>\n",
              "      <td>Manual</td>\n",
              "      <td>First</td>\n",
              "      <td>18.2 kmpl</td>\n",
              "      <td>1199 CC</td>\n",
              "      <td>88.7 bhp</td>\n",
              "      <td>5.0</td>\n",
              "      <td>8.61 Lakh</td>\n",
              "      <td>4.50</td>\n",
              "    </tr>\n",
              "    <tr>\n",
              "      <th>3</th>\n",
              "      <td>3</td>\n",
              "      <td>Maruti Ertiga VDI</td>\n",
              "      <td>Chennai</td>\n",
              "      <td>2012</td>\n",
              "      <td>87000</td>\n",
              "      <td>Diesel</td>\n",
              "      <td>Manual</td>\n",
              "      <td>First</td>\n",
              "      <td>20.77 kmpl</td>\n",
              "      <td>1248 CC</td>\n",
              "      <td>88.76 bhp</td>\n",
              "      <td>7.0</td>\n",
              "      <td>NaN</td>\n",
              "      <td>6.00</td>\n",
              "    </tr>\n",
              "    <tr>\n",
              "      <th>4</th>\n",
              "      <td>4</td>\n",
              "      <td>Audi A4 New 2.0 TDI Multitronic</td>\n",
              "      <td>Coimbatore</td>\n",
              "      <td>2013</td>\n",
              "      <td>40670</td>\n",
              "      <td>Diesel</td>\n",
              "      <td>Automatic</td>\n",
              "      <td>Second</td>\n",
              "      <td>15.2 kmpl</td>\n",
              "      <td>1968 CC</td>\n",
              "      <td>140.8 bhp</td>\n",
              "      <td>5.0</td>\n",
              "      <td>NaN</td>\n",
              "      <td>17.74</td>\n",
              "    </tr>\n",
              "  </tbody>\n",
              "</table>\n",
              "</div>\n",
              "      <button class=\"colab-df-convert\" onclick=\"convertToInteractive('df-465b9f02-2f8f-4f7b-8150-65b524adcbae')\"\n",
              "              title=\"Convert this dataframe to an interactive table.\"\n",
              "              style=\"display:none;\">\n",
              "        \n",
              "  <svg xmlns=\"http://www.w3.org/2000/svg\" height=\"24px\"viewBox=\"0 0 24 24\"\n",
              "       width=\"24px\">\n",
              "    <path d=\"M0 0h24v24H0V0z\" fill=\"none\"/>\n",
              "    <path d=\"M18.56 5.44l.94 2.06.94-2.06 2.06-.94-2.06-.94-.94-2.06-.94 2.06-2.06.94zm-11 1L8.5 8.5l.94-2.06 2.06-.94-2.06-.94L8.5 2.5l-.94 2.06-2.06.94zm10 10l.94 2.06.94-2.06 2.06-.94-2.06-.94-.94-2.06-.94 2.06-2.06.94z\"/><path d=\"M17.41 7.96l-1.37-1.37c-.4-.4-.92-.59-1.43-.59-.52 0-1.04.2-1.43.59L10.3 9.45l-7.72 7.72c-.78.78-.78 2.05 0 2.83L4 21.41c.39.39.9.59 1.41.59.51 0 1.02-.2 1.41-.59l7.78-7.78 2.81-2.81c.8-.78.8-2.07 0-2.86zM5.41 20L4 18.59l7.72-7.72 1.47 1.35L5.41 20z\"/>\n",
              "  </svg>\n",
              "      </button>\n",
              "      \n",
              "  <style>\n",
              "    .colab-df-container {\n",
              "      display:flex;\n",
              "      flex-wrap:wrap;\n",
              "      gap: 12px;\n",
              "    }\n",
              "\n",
              "    .colab-df-convert {\n",
              "      background-color: #E8F0FE;\n",
              "      border: none;\n",
              "      border-radius: 50%;\n",
              "      cursor: pointer;\n",
              "      display: none;\n",
              "      fill: #1967D2;\n",
              "      height: 32px;\n",
              "      padding: 0 0 0 0;\n",
              "      width: 32px;\n",
              "    }\n",
              "\n",
              "    .colab-df-convert:hover {\n",
              "      background-color: #E2EBFA;\n",
              "      box-shadow: 0px 1px 2px rgba(60, 64, 67, 0.3), 0px 1px 3px 1px rgba(60, 64, 67, 0.15);\n",
              "      fill: #174EA6;\n",
              "    }\n",
              "\n",
              "    [theme=dark] .colab-df-convert {\n",
              "      background-color: #3B4455;\n",
              "      fill: #D2E3FC;\n",
              "    }\n",
              "\n",
              "    [theme=dark] .colab-df-convert:hover {\n",
              "      background-color: #434B5C;\n",
              "      box-shadow: 0px 1px 3px 1px rgba(0, 0, 0, 0.15);\n",
              "      filter: drop-shadow(0px 1px 2px rgba(0, 0, 0, 0.3));\n",
              "      fill: #FFFFFF;\n",
              "    }\n",
              "  </style>\n",
              "\n",
              "      <script>\n",
              "        const buttonEl =\n",
              "          document.querySelector('#df-465b9f02-2f8f-4f7b-8150-65b524adcbae button.colab-df-convert');\n",
              "        buttonEl.style.display =\n",
              "          google.colab.kernel.accessAllowed ? 'block' : 'none';\n",
              "\n",
              "        async function convertToInteractive(key) {\n",
              "          const element = document.querySelector('#df-465b9f02-2f8f-4f7b-8150-65b524adcbae');\n",
              "          const dataTable =\n",
              "            await google.colab.kernel.invokeFunction('convertToInteractive',\n",
              "                                                     [key], {});\n",
              "          if (!dataTable) return;\n",
              "\n",
              "          const docLinkHtml = 'Like what you see? Visit the ' +\n",
              "            '<a target=\"_blank\" href=https://colab.research.google.com/notebooks/data_table.ipynb>data table notebook</a>'\n",
              "            + ' to learn more about interactive tables.';\n",
              "          element.innerHTML = '';\n",
              "          dataTable['output_type'] = 'display_data';\n",
              "          await google.colab.output.renderOutput(dataTable, element);\n",
              "          const docLink = document.createElement('div');\n",
              "          docLink.innerHTML = docLinkHtml;\n",
              "          element.appendChild(docLink);\n",
              "        }\n",
              "      </script>\n",
              "    </div>\n",
              "  </div>\n",
              "  "
            ]
          },
          "metadata": {},
          "execution_count": 4
        }
      ],
      "source": [
        "# Load Data \n",
        "data = pd.read_csv(\"/content/drive/MyDrive/dataset/assignment2_data.csv\")\n",
        "data.head()"
      ]
    },
    {
      "cell_type": "code",
      "execution_count": 5,
      "metadata": {
        "id": "d-J1QpWR_WYh",
        "colab": {
          "base_uri": "https://localhost:8080/"
        },
        "outputId": "e540e238-27ac-46f5-d28b-4cdcc17ac54c"
      },
      "outputs": [
        {
          "output_type": "stream",
          "name": "stdout",
          "text": [
            "<class 'pandas.core.frame.DataFrame'>\n",
            "RangeIndex: 6019 entries, 0 to 6018\n",
            "Data columns (total 14 columns):\n",
            " #   Column             Non-Null Count  Dtype  \n",
            "---  ------             --------------  -----  \n",
            " 0   Unnamed: 0         6019 non-null   int64  \n",
            " 1   Name               6019 non-null   object \n",
            " 2   Location           6019 non-null   object \n",
            " 3   Year               6019 non-null   int64  \n",
            " 4   Kilometers_Driven  6019 non-null   int64  \n",
            " 5   Fuel_Type          6019 non-null   object \n",
            " 6   Transmission       6019 non-null   object \n",
            " 7   Owner_Type         6019 non-null   object \n",
            " 8   Mileage            6017 non-null   object \n",
            " 9   Engine             5983 non-null   object \n",
            " 10  Power              5983 non-null   object \n",
            " 11  Seats              5977 non-null   float64\n",
            " 12  New_Price          824 non-null    object \n",
            " 13  Price              6019 non-null   float64\n",
            "dtypes: float64(2), int64(3), object(9)\n",
            "memory usage: 658.5+ KB\n"
          ]
        }
      ],
      "source": [
        "data.info()"
      ]
    },
    {
      "cell_type": "markdown",
      "source": [
        "###데이터 전처리"
      ],
      "metadata": {
        "id": "NJCG-1BGzG9b"
      }
    },
    {
      "cell_type": "code",
      "source": [
        "#결측치 및 이상치를 제거한다\n",
        "#New_Price의 결측치가 너무 많아서 feature 자체를 제거함\n",
        "print(data.isnull().sum())\n",
        "data = data.drop('New_Price',axis=1)\n",
        "data = data.dropna(how = 'any')"
      ],
      "metadata": {
        "colab": {
          "base_uri": "https://localhost:8080/"
        },
        "id": "sEdOupbAyYjp",
        "outputId": "4905ae8e-e9ce-46cc-bbab-6503320af0fa"
      },
      "execution_count": 10,
      "outputs": [
        {
          "output_type": "stream",
          "name": "stdout",
          "text": [
            "Unnamed: 0            0\n",
            "Name                  0\n",
            "Location              0\n",
            "Year                  0\n",
            "Kilometers_Driven     0\n",
            "Fuel_Type             0\n",
            "Transmission          0\n",
            "Owner_Type            0\n",
            "Mileage               2\n",
            "Engine               36\n",
            "Power                36\n",
            "Seats                42\n",
            "Price                 0\n",
            "dtype: int64\n"
          ]
        }
      ]
    },
    {
      "cell_type": "code",
      "source": [
        "data.info()"
      ],
      "metadata": {
        "colab": {
          "base_uri": "https://localhost:8080/"
        },
        "id": "ShD9ipdhyZAG",
        "outputId": "da10106f-3cd1-4b24-abae-518d84fdb2ea"
      },
      "execution_count": 11,
      "outputs": [
        {
          "output_type": "stream",
          "name": "stdout",
          "text": [
            "<class 'pandas.core.frame.DataFrame'>\n",
            "Int64Index: 5975 entries, 0 to 6018\n",
            "Data columns (total 13 columns):\n",
            " #   Column             Non-Null Count  Dtype  \n",
            "---  ------             --------------  -----  \n",
            " 0   Unnamed: 0         5975 non-null   int64  \n",
            " 1   Name               5975 non-null   object \n",
            " 2   Location           5975 non-null   object \n",
            " 3   Year               5975 non-null   int64  \n",
            " 4   Kilometers_Driven  5975 non-null   int64  \n",
            " 5   Fuel_Type          5975 non-null   object \n",
            " 6   Transmission       5975 non-null   object \n",
            " 7   Owner_Type         5975 non-null   object \n",
            " 8   Mileage            5975 non-null   object \n",
            " 9   Engine             5975 non-null   object \n",
            " 10  Power              5975 non-null   object \n",
            " 11  Seats              5975 non-null   float64\n",
            " 12  Price              5975 non-null   float64\n",
            "dtypes: float64(2), int64(3), object(8)\n",
            "memory usage: 653.5+ KB\n"
          ]
        }
      ]
    },
    {
      "cell_type": "code",
      "source": [
        "data = data.drop('Unnamed: 0',axis=1)\n",
        "data"
      ],
      "metadata": {
        "colab": {
          "base_uri": "https://localhost:8080/",
          "height": 817
        },
        "id": "peeU7v6jyZDK",
        "outputId": "8a2b9cf3-9a12-4134-b9df-f68bf18eb46b"
      },
      "execution_count": 14,
      "outputs": [
        {
          "output_type": "execute_result",
          "data": {
            "text/plain": [
              "                                  Name    Location  Year  Kilometers_Driven  \\\n",
              "0               Maruti Wagon R LXI CNG      Mumbai  2010              72000   \n",
              "1     Hyundai Creta 1.6 CRDi SX Option        Pune  2015              41000   \n",
              "2                         Honda Jazz V     Chennai  2011              46000   \n",
              "3                    Maruti Ertiga VDI     Chennai  2012              87000   \n",
              "4      Audi A4 New 2.0 TDI Multitronic  Coimbatore  2013              40670   \n",
              "...                                ...         ...   ...                ...   \n",
              "6014                  Maruti Swift VDI       Delhi  2014              27365   \n",
              "6015          Hyundai Xcent 1.1 CRDi S      Jaipur  2015             100000   \n",
              "6016             Mahindra Xylo D4 BSIV      Jaipur  2012              55000   \n",
              "6017                Maruti Wagon R VXI     Kolkata  2013              46000   \n",
              "6018             Chevrolet Beat Diesel   Hyderabad  2011              47000   \n",
              "\n",
              "     Fuel_Type Transmission Owner_Type     Mileage   Engine      Power  Seats  \\\n",
              "0          CNG       Manual      First  26.6 km/kg   998 CC  58.16 bhp    5.0   \n",
              "1       Diesel       Manual      First  19.67 kmpl  1582 CC  126.2 bhp    5.0   \n",
              "2       Petrol       Manual      First   18.2 kmpl  1199 CC   88.7 bhp    5.0   \n",
              "3       Diesel       Manual      First  20.77 kmpl  1248 CC  88.76 bhp    7.0   \n",
              "4       Diesel    Automatic     Second   15.2 kmpl  1968 CC  140.8 bhp    5.0   \n",
              "...        ...          ...        ...         ...      ...        ...    ...   \n",
              "6014    Diesel       Manual      First   28.4 kmpl  1248 CC     74 bhp    5.0   \n",
              "6015    Diesel       Manual      First   24.4 kmpl  1120 CC     71 bhp    5.0   \n",
              "6016    Diesel       Manual     Second   14.0 kmpl  2498 CC    112 bhp    8.0   \n",
              "6017    Petrol       Manual      First   18.9 kmpl   998 CC   67.1 bhp    5.0   \n",
              "6018    Diesel       Manual      First  25.44 kmpl   936 CC   57.6 bhp    5.0   \n",
              "\n",
              "      Price  \n",
              "0      1.75  \n",
              "1     12.50  \n",
              "2      4.50  \n",
              "3      6.00  \n",
              "4     17.74  \n",
              "...     ...  \n",
              "6014   4.75  \n",
              "6015   4.00  \n",
              "6016   2.90  \n",
              "6017   2.65  \n",
              "6018   2.50  \n",
              "\n",
              "[5975 rows x 12 columns]"
            ],
            "text/html": [
              "\n",
              "  <div id=\"df-5fdf2a7f-3915-4b74-886c-d049c87d842c\">\n",
              "    <div class=\"colab-df-container\">\n",
              "      <div>\n",
              "<style scoped>\n",
              "    .dataframe tbody tr th:only-of-type {\n",
              "        vertical-align: middle;\n",
              "    }\n",
              "\n",
              "    .dataframe tbody tr th {\n",
              "        vertical-align: top;\n",
              "    }\n",
              "\n",
              "    .dataframe thead th {\n",
              "        text-align: right;\n",
              "    }\n",
              "</style>\n",
              "<table border=\"1\" class=\"dataframe\">\n",
              "  <thead>\n",
              "    <tr style=\"text-align: right;\">\n",
              "      <th></th>\n",
              "      <th>Name</th>\n",
              "      <th>Location</th>\n",
              "      <th>Year</th>\n",
              "      <th>Kilometers_Driven</th>\n",
              "      <th>Fuel_Type</th>\n",
              "      <th>Transmission</th>\n",
              "      <th>Owner_Type</th>\n",
              "      <th>Mileage</th>\n",
              "      <th>Engine</th>\n",
              "      <th>Power</th>\n",
              "      <th>Seats</th>\n",
              "      <th>Price</th>\n",
              "    </tr>\n",
              "  </thead>\n",
              "  <tbody>\n",
              "    <tr>\n",
              "      <th>0</th>\n",
              "      <td>Maruti Wagon R LXI CNG</td>\n",
              "      <td>Mumbai</td>\n",
              "      <td>2010</td>\n",
              "      <td>72000</td>\n",
              "      <td>CNG</td>\n",
              "      <td>Manual</td>\n",
              "      <td>First</td>\n",
              "      <td>26.6 km/kg</td>\n",
              "      <td>998 CC</td>\n",
              "      <td>58.16 bhp</td>\n",
              "      <td>5.0</td>\n",
              "      <td>1.75</td>\n",
              "    </tr>\n",
              "    <tr>\n",
              "      <th>1</th>\n",
              "      <td>Hyundai Creta 1.6 CRDi SX Option</td>\n",
              "      <td>Pune</td>\n",
              "      <td>2015</td>\n",
              "      <td>41000</td>\n",
              "      <td>Diesel</td>\n",
              "      <td>Manual</td>\n",
              "      <td>First</td>\n",
              "      <td>19.67 kmpl</td>\n",
              "      <td>1582 CC</td>\n",
              "      <td>126.2 bhp</td>\n",
              "      <td>5.0</td>\n",
              "      <td>12.50</td>\n",
              "    </tr>\n",
              "    <tr>\n",
              "      <th>2</th>\n",
              "      <td>Honda Jazz V</td>\n",
              "      <td>Chennai</td>\n",
              "      <td>2011</td>\n",
              "      <td>46000</td>\n",
              "      <td>Petrol</td>\n",
              "      <td>Manual</td>\n",
              "      <td>First</td>\n",
              "      <td>18.2 kmpl</td>\n",
              "      <td>1199 CC</td>\n",
              "      <td>88.7 bhp</td>\n",
              "      <td>5.0</td>\n",
              "      <td>4.50</td>\n",
              "    </tr>\n",
              "    <tr>\n",
              "      <th>3</th>\n",
              "      <td>Maruti Ertiga VDI</td>\n",
              "      <td>Chennai</td>\n",
              "      <td>2012</td>\n",
              "      <td>87000</td>\n",
              "      <td>Diesel</td>\n",
              "      <td>Manual</td>\n",
              "      <td>First</td>\n",
              "      <td>20.77 kmpl</td>\n",
              "      <td>1248 CC</td>\n",
              "      <td>88.76 bhp</td>\n",
              "      <td>7.0</td>\n",
              "      <td>6.00</td>\n",
              "    </tr>\n",
              "    <tr>\n",
              "      <th>4</th>\n",
              "      <td>Audi A4 New 2.0 TDI Multitronic</td>\n",
              "      <td>Coimbatore</td>\n",
              "      <td>2013</td>\n",
              "      <td>40670</td>\n",
              "      <td>Diesel</td>\n",
              "      <td>Automatic</td>\n",
              "      <td>Second</td>\n",
              "      <td>15.2 kmpl</td>\n",
              "      <td>1968 CC</td>\n",
              "      <td>140.8 bhp</td>\n",
              "      <td>5.0</td>\n",
              "      <td>17.74</td>\n",
              "    </tr>\n",
              "    <tr>\n",
              "      <th>...</th>\n",
              "      <td>...</td>\n",
              "      <td>...</td>\n",
              "      <td>...</td>\n",
              "      <td>...</td>\n",
              "      <td>...</td>\n",
              "      <td>...</td>\n",
              "      <td>...</td>\n",
              "      <td>...</td>\n",
              "      <td>...</td>\n",
              "      <td>...</td>\n",
              "      <td>...</td>\n",
              "      <td>...</td>\n",
              "    </tr>\n",
              "    <tr>\n",
              "      <th>6014</th>\n",
              "      <td>Maruti Swift VDI</td>\n",
              "      <td>Delhi</td>\n",
              "      <td>2014</td>\n",
              "      <td>27365</td>\n",
              "      <td>Diesel</td>\n",
              "      <td>Manual</td>\n",
              "      <td>First</td>\n",
              "      <td>28.4 kmpl</td>\n",
              "      <td>1248 CC</td>\n",
              "      <td>74 bhp</td>\n",
              "      <td>5.0</td>\n",
              "      <td>4.75</td>\n",
              "    </tr>\n",
              "    <tr>\n",
              "      <th>6015</th>\n",
              "      <td>Hyundai Xcent 1.1 CRDi S</td>\n",
              "      <td>Jaipur</td>\n",
              "      <td>2015</td>\n",
              "      <td>100000</td>\n",
              "      <td>Diesel</td>\n",
              "      <td>Manual</td>\n",
              "      <td>First</td>\n",
              "      <td>24.4 kmpl</td>\n",
              "      <td>1120 CC</td>\n",
              "      <td>71 bhp</td>\n",
              "      <td>5.0</td>\n",
              "      <td>4.00</td>\n",
              "    </tr>\n",
              "    <tr>\n",
              "      <th>6016</th>\n",
              "      <td>Mahindra Xylo D4 BSIV</td>\n",
              "      <td>Jaipur</td>\n",
              "      <td>2012</td>\n",
              "      <td>55000</td>\n",
              "      <td>Diesel</td>\n",
              "      <td>Manual</td>\n",
              "      <td>Second</td>\n",
              "      <td>14.0 kmpl</td>\n",
              "      <td>2498 CC</td>\n",
              "      <td>112 bhp</td>\n",
              "      <td>8.0</td>\n",
              "      <td>2.90</td>\n",
              "    </tr>\n",
              "    <tr>\n",
              "      <th>6017</th>\n",
              "      <td>Maruti Wagon R VXI</td>\n",
              "      <td>Kolkata</td>\n",
              "      <td>2013</td>\n",
              "      <td>46000</td>\n",
              "      <td>Petrol</td>\n",
              "      <td>Manual</td>\n",
              "      <td>First</td>\n",
              "      <td>18.9 kmpl</td>\n",
              "      <td>998 CC</td>\n",
              "      <td>67.1 bhp</td>\n",
              "      <td>5.0</td>\n",
              "      <td>2.65</td>\n",
              "    </tr>\n",
              "    <tr>\n",
              "      <th>6018</th>\n",
              "      <td>Chevrolet Beat Diesel</td>\n",
              "      <td>Hyderabad</td>\n",
              "      <td>2011</td>\n",
              "      <td>47000</td>\n",
              "      <td>Diesel</td>\n",
              "      <td>Manual</td>\n",
              "      <td>First</td>\n",
              "      <td>25.44 kmpl</td>\n",
              "      <td>936 CC</td>\n",
              "      <td>57.6 bhp</td>\n",
              "      <td>5.0</td>\n",
              "      <td>2.50</td>\n",
              "    </tr>\n",
              "  </tbody>\n",
              "</table>\n",
              "<p>5975 rows × 12 columns</p>\n",
              "</div>\n",
              "      <button class=\"colab-df-convert\" onclick=\"convertToInteractive('df-5fdf2a7f-3915-4b74-886c-d049c87d842c')\"\n",
              "              title=\"Convert this dataframe to an interactive table.\"\n",
              "              style=\"display:none;\">\n",
              "        \n",
              "  <svg xmlns=\"http://www.w3.org/2000/svg\" height=\"24px\"viewBox=\"0 0 24 24\"\n",
              "       width=\"24px\">\n",
              "    <path d=\"M0 0h24v24H0V0z\" fill=\"none\"/>\n",
              "    <path d=\"M18.56 5.44l.94 2.06.94-2.06 2.06-.94-2.06-.94-.94-2.06-.94 2.06-2.06.94zm-11 1L8.5 8.5l.94-2.06 2.06-.94-2.06-.94L8.5 2.5l-.94 2.06-2.06.94zm10 10l.94 2.06.94-2.06 2.06-.94-2.06-.94-.94-2.06-.94 2.06-2.06.94z\"/><path d=\"M17.41 7.96l-1.37-1.37c-.4-.4-.92-.59-1.43-.59-.52 0-1.04.2-1.43.59L10.3 9.45l-7.72 7.72c-.78.78-.78 2.05 0 2.83L4 21.41c.39.39.9.59 1.41.59.51 0 1.02-.2 1.41-.59l7.78-7.78 2.81-2.81c.8-.78.8-2.07 0-2.86zM5.41 20L4 18.59l7.72-7.72 1.47 1.35L5.41 20z\"/>\n",
              "  </svg>\n",
              "      </button>\n",
              "      \n",
              "  <style>\n",
              "    .colab-df-container {\n",
              "      display:flex;\n",
              "      flex-wrap:wrap;\n",
              "      gap: 12px;\n",
              "    }\n",
              "\n",
              "    .colab-df-convert {\n",
              "      background-color: #E8F0FE;\n",
              "      border: none;\n",
              "      border-radius: 50%;\n",
              "      cursor: pointer;\n",
              "      display: none;\n",
              "      fill: #1967D2;\n",
              "      height: 32px;\n",
              "      padding: 0 0 0 0;\n",
              "      width: 32px;\n",
              "    }\n",
              "\n",
              "    .colab-df-convert:hover {\n",
              "      background-color: #E2EBFA;\n",
              "      box-shadow: 0px 1px 2px rgba(60, 64, 67, 0.3), 0px 1px 3px 1px rgba(60, 64, 67, 0.15);\n",
              "      fill: #174EA6;\n",
              "    }\n",
              "\n",
              "    [theme=dark] .colab-df-convert {\n",
              "      background-color: #3B4455;\n",
              "      fill: #D2E3FC;\n",
              "    }\n",
              "\n",
              "    [theme=dark] .colab-df-convert:hover {\n",
              "      background-color: #434B5C;\n",
              "      box-shadow: 0px 1px 3px 1px rgba(0, 0, 0, 0.15);\n",
              "      filter: drop-shadow(0px 1px 2px rgba(0, 0, 0, 0.3));\n",
              "      fill: #FFFFFF;\n",
              "    }\n",
              "  </style>\n",
              "\n",
              "      <script>\n",
              "        const buttonEl =\n",
              "          document.querySelector('#df-5fdf2a7f-3915-4b74-886c-d049c87d842c button.colab-df-convert');\n",
              "        buttonEl.style.display =\n",
              "          google.colab.kernel.accessAllowed ? 'block' : 'none';\n",
              "\n",
              "        async function convertToInteractive(key) {\n",
              "          const element = document.querySelector('#df-5fdf2a7f-3915-4b74-886c-d049c87d842c');\n",
              "          const dataTable =\n",
              "            await google.colab.kernel.invokeFunction('convertToInteractive',\n",
              "                                                     [key], {});\n",
              "          if (!dataTable) return;\n",
              "\n",
              "          const docLinkHtml = 'Like what you see? Visit the ' +\n",
              "            '<a target=\"_blank\" href=https://colab.research.google.com/notebooks/data_table.ipynb>data table notebook</a>'\n",
              "            + ' to learn more about interactive tables.';\n",
              "          element.innerHTML = '';\n",
              "          dataTable['output_type'] = 'display_data';\n",
              "          await google.colab.output.renderOutput(dataTable, element);\n",
              "          const docLink = document.createElement('div');\n",
              "          docLink.innerHTML = docLinkHtml;\n",
              "          element.appendChild(docLink);\n",
              "        }\n",
              "      </script>\n",
              "    </div>\n",
              "  </div>\n",
              "  "
            ]
          },
          "metadata": {},
          "execution_count": 14
        }
      ]
    },
    {
      "cell_type": "code",
      "source": [
        "#범주형 변수를 처리하기 위해 해당 feature들을 one-hot encoding을 통해 변환해준다\n",
        "print(data.Location.unique())\n",
        "print(data.Fuel_Type.unique())\n",
        "print(data.Transmission.unique())\n",
        "print(data.Owner_Type.unique())"
      ],
      "metadata": {
        "colab": {
          "base_uri": "https://localhost:8080/"
        },
        "id": "ifUQS3r6yZIj",
        "outputId": "6a5be1c2-26b3-4f97-ceaf-981a59b3871a"
      },
      "execution_count": 15,
      "outputs": [
        {
          "output_type": "stream",
          "name": "stdout",
          "text": [
            "['Mumbai' 'Pune' 'Chennai' 'Coimbatore' 'Hyderabad' 'Jaipur' 'Kochi'\n",
            " 'Kolkata' 'Delhi' 'Bangalore' 'Ahmedabad']\n",
            "['CNG' 'Diesel' 'Petrol' 'LPG']\n",
            "['Manual' 'Automatic']\n",
            "['First' 'Second' 'Fourth & Above' 'Third']\n"
          ]
        }
      ]
    },
    {
      "cell_type": "code",
      "source": [
        "#get_dummy를 통해 one-hot encoding\n",
        "location_dummy = pd.get_dummies(data.Location)\n",
        "fuel_dummy = pd.get_dummies(data.Fuel_Type)\n",
        "transmission_dummy = pd.get_dummies(data.Transmission)\n",
        "owner_dummy = pd.get_dummies(data.Owner_Type)\n",
        "\n",
        "location_dummy.columns=data.Location.unique()\n",
        "fuel_dummy.columns=data.Fuel_Type.unique()\n",
        "transmission_dummy.columns=data.Transmission.unique()\n",
        "owner_dummy.columns=data.Owner_Type.unique()"
      ],
      "metadata": {
        "id": "wN6Z_6n6yZLZ"
      },
      "execution_count": 16,
      "outputs": []
    },
    {
      "cell_type": "code",
      "source": [
        "data = data.drop(['Location', 'Fuel_Type', 'Transmission', 'Owner_Type'], axis=1)\n",
        "\n",
        "data = pd.concat([data, location_dummy], axis=1)\n",
        "data = pd.concat([data, fuel_dummy], axis=1)\n",
        "data = pd.concat([data, transmission_dummy], axis=1)\n",
        "data = pd.concat([data, owner_dummy], axis=1)"
      ],
      "metadata": {
        "id": "YAVYzC86yZOC"
      },
      "execution_count": 17,
      "outputs": []
    },
    {
      "cell_type": "code",
      "source": [
        "data.info()"
      ],
      "metadata": {
        "colab": {
          "base_uri": "https://localhost:8080/"
        },
        "id": "VWwU05H3yZQw",
        "outputId": "fbfae64f-63cd-4a39-c934-e8d0745742a5"
      },
      "execution_count": 19,
      "outputs": [
        {
          "output_type": "stream",
          "name": "stdout",
          "text": [
            "<class 'pandas.core.frame.DataFrame'>\n",
            "Int64Index: 5975 entries, 0 to 6018\n",
            "Data columns (total 29 columns):\n",
            " #   Column             Non-Null Count  Dtype  \n",
            "---  ------             --------------  -----  \n",
            " 0   Name               5975 non-null   object \n",
            " 1   Year               5975 non-null   int64  \n",
            " 2   Kilometers_Driven  5975 non-null   int64  \n",
            " 3   Mileage            5975 non-null   object \n",
            " 4   Engine             5975 non-null   object \n",
            " 5   Power              5975 non-null   object \n",
            " 6   Seats              5975 non-null   float64\n",
            " 7   Price              5975 non-null   float64\n",
            " 8   Mumbai             5975 non-null   uint8  \n",
            " 9   Pune               5975 non-null   uint8  \n",
            " 10  Chennai            5975 non-null   uint8  \n",
            " 11  Coimbatore         5975 non-null   uint8  \n",
            " 12  Hyderabad          5975 non-null   uint8  \n",
            " 13  Jaipur             5975 non-null   uint8  \n",
            " 14  Kochi              5975 non-null   uint8  \n",
            " 15  Kolkata            5975 non-null   uint8  \n",
            " 16  Delhi              5975 non-null   uint8  \n",
            " 17  Bangalore          5975 non-null   uint8  \n",
            " 18  Ahmedabad          5975 non-null   uint8  \n",
            " 19  CNG                5975 non-null   uint8  \n",
            " 20  Diesel             5975 non-null   uint8  \n",
            " 21  Petrol             5975 non-null   uint8  \n",
            " 22  LPG                5975 non-null   uint8  \n",
            " 23  Manual             5975 non-null   uint8  \n",
            " 24  Automatic          5975 non-null   uint8  \n",
            " 25  First              5975 non-null   uint8  \n",
            " 26  Second             5975 non-null   uint8  \n",
            " 27  Fourth & Above     5975 non-null   uint8  \n",
            " 28  Third              5975 non-null   uint8  \n",
            "dtypes: float64(2), int64(2), object(4), uint8(21)\n",
            "memory usage: 542.7+ KB\n"
          ]
        }
      ]
    },
    {
      "cell_type": "code",
      "source": [
        "#mileage 와 engine feature를 실수형으로 변환한다\n",
        "data.Mileage = data.Mileage.str.split(\" \").str[0].astype('float')\n",
        "data.Engine = data.Engine.str.split(\" \").str[0].astype('float')"
      ],
      "metadata": {
        "id": "Z3cHQPr00aEf"
      },
      "execution_count": 20,
      "outputs": []
    },
    {
      "cell_type": "code",
      "source": [
        "data.info()"
      ],
      "metadata": {
        "colab": {
          "base_uri": "https://localhost:8080/"
        },
        "id": "dK9NKyri0zGN",
        "outputId": "6f5525f5-e8fa-423c-9082-7ff5fd712466"
      },
      "execution_count": 24,
      "outputs": [
        {
          "output_type": "stream",
          "name": "stdout",
          "text": [
            "<class 'pandas.core.frame.DataFrame'>\n",
            "Int64Index: 5975 entries, 0 to 6018\n",
            "Data columns (total 29 columns):\n",
            " #   Column             Non-Null Count  Dtype  \n",
            "---  ------             --------------  -----  \n",
            " 0   Name               5975 non-null   object \n",
            " 1   Year               5975 non-null   int64  \n",
            " 2   Kilometers_Driven  5975 non-null   int64  \n",
            " 3   Mileage            5975 non-null   float64\n",
            " 4   Engine             5975 non-null   float64\n",
            " 5   Power              5975 non-null   object \n",
            " 6   Seats              5975 non-null   float64\n",
            " 7   Price              5975 non-null   float64\n",
            " 8   Mumbai             5975 non-null   uint8  \n",
            " 9   Pune               5975 non-null   uint8  \n",
            " 10  Chennai            5975 non-null   uint8  \n",
            " 11  Coimbatore         5975 non-null   uint8  \n",
            " 12  Hyderabad          5975 non-null   uint8  \n",
            " 13  Jaipur             5975 non-null   uint8  \n",
            " 14  Kochi              5975 non-null   uint8  \n",
            " 15  Kolkata            5975 non-null   uint8  \n",
            " 16  Delhi              5975 non-null   uint8  \n",
            " 17  Bangalore          5975 non-null   uint8  \n",
            " 18  Ahmedabad          5975 non-null   uint8  \n",
            " 19  CNG                5975 non-null   uint8  \n",
            " 20  Diesel             5975 non-null   uint8  \n",
            " 21  Petrol             5975 non-null   uint8  \n",
            " 22  LPG                5975 non-null   uint8  \n",
            " 23  Manual             5975 non-null   uint8  \n",
            " 24  Automatic          5975 non-null   uint8  \n",
            " 25  First              5975 non-null   uint8  \n",
            " 26  Second             5975 non-null   uint8  \n",
            " 27  Fourth & Above     5975 non-null   uint8  \n",
            " 28  Third              5975 non-null   uint8  \n",
            "dtypes: float64(4), int64(2), object(2), uint8(21)\n",
            "memory usage: 542.7+ KB\n"
          ]
        }
      ]
    },
    {
      "cell_type": "code",
      "source": [
        "#Power의 type이 여전히 object이므로 이상치가 있는지 확인해보겠다\n",
        "data.Power.unique()"
      ],
      "metadata": {
        "colab": {
          "base_uri": "https://localhost:8080/"
        },
        "id": "cl3ooooY0zME",
        "outputId": "ae6ebc34-87a9-403f-a60a-3472977a6cd0"
      },
      "execution_count": 25,
      "outputs": [
        {
          "output_type": "execute_result",
          "data": {
            "text/plain": [
              "array(['58.16 bhp', '126.2 bhp', '88.7 bhp', '88.76 bhp', '140.8 bhp',\n",
              "       '55.2 bhp', '63.1 bhp', '171.5 bhp', '103.6 bhp', '74 bhp',\n",
              "       '103.25 bhp', '116.3 bhp', '187.7 bhp', '115 bhp', '175.56 bhp',\n",
              "       '98.6 bhp', '83.8 bhp', '167.62 bhp', '190 bhp', '88.5 bhp',\n",
              "       '177.01 bhp', '80 bhp', '67.1 bhp', '102 bhp', '108.45 bhp',\n",
              "       '138.1 bhp', '184 bhp', '179.5 bhp', '103.5 bhp', '64 bhp',\n",
              "       '82 bhp', '254.8 bhp', '73.9 bhp', '46.3 bhp', '37.5 bhp',\n",
              "       '77 bhp', '82.9 bhp', '149.92 bhp', '138.03 bhp', '112.2 bhp',\n",
              "       '163.7 bhp', '71 bhp', '105 bhp', '174.33 bhp', '75 bhp',\n",
              "       '103.2 bhp', '53.3 bhp', '78.9 bhp', '147.6 bhp', '147.8 bhp',\n",
              "       '68 bhp', '186 bhp', '170 bhp', '69 bhp', '140 bhp', '78 bhp',\n",
              "       '194 bhp', '500 bhp', '108.5 bhp', '86.8 bhp', '187.74 bhp',\n",
              "       'null bhp', '132 bhp', '86.7 bhp', '73.94 bhp', '117.3 bhp',\n",
              "       '218 bhp', '168.5 bhp', '89.84 bhp', '110 bhp', '90 bhp',\n",
              "       '82.85 bhp', '67 bhp', '241.4 bhp', '35 bhp', '270.9 bhp',\n",
              "       '126.32 bhp', '73 bhp', '130 bhp', '100.6 bhp', '150 bhp',\n",
              "       '75.94 bhp', '215 bhp', '107.3 bhp', '37.48 bhp', '120 bhp',\n",
              "       '178 bhp', '152 bhp', '91.1 bhp', '85.80 bhp', '362.07 bhp',\n",
              "       '121.3 bhp', '143 bhp', '81.80 bhp', '171 bhp', '76.8 bhp',\n",
              "       '103.52 bhp', '444 bhp', '362.9 bhp', '67.06 bhp', '120.7 bhp',\n",
              "       '258 bhp', '81.86 bhp', '112 bhp', '88.73 bhp', '57.6 bhp',\n",
              "       '157.75 bhp', '102.5 bhp', '201.1 bhp', '83.1 bhp', '68.05 bhp',\n",
              "       '88.50 bhp', '106 bhp', '100 bhp', '81.83 bhp', '85 bhp',\n",
              "       '64.1 bhp', '177.5 bhp', '246.7 bhp', '177.46 bhp', '65 bhp',\n",
              "       '67.04 bhp', '189.08 bhp', '53.5 bhp', '194.3 bhp', '70 bhp',\n",
              "       '183 bhp', '254.79 bhp', '66.1 bhp', '76 bhp', '60 bhp',\n",
              "       '123.24 bhp', '47.3 bhp', '118 bhp', '88.8 bhp', '177 bhp',\n",
              "       '136 bhp', '201.15 bhp', '93.7 bhp', '177.6 bhp', '313 bhp',\n",
              "       '245 bhp', '125 bhp', '141 bhp', '227 bhp', '62 bhp', '141.1 bhp',\n",
              "       '83.14 bhp', '192 bhp', '67.05 bhp', '47 bhp', '235 bhp', '37 bhp',\n",
              "       '87.2 bhp', '203 bhp', '204 bhp', '246.74 bhp', '122 bhp',\n",
              "       '282 bhp', '181 bhp', '224 bhp', '94 bhp', '367 bhp', '98.79 bhp',\n",
              "       '62.1 bhp', '174.3 bhp', '114 bhp', '335.2 bhp', '169 bhp',\n",
              "       '191.34 bhp', '108.49 bhp', '138.02 bhp', '156 bhp', '187.4 bhp',\n",
              "       '66 bhp', '103.3 bhp', '164.7 bhp', '79.4 bhp', '198.5 bhp',\n",
              "       '154 bhp', '73.8 bhp', '181.43 bhp', '85.8 bhp', '207.8 bhp',\n",
              "       '108.4 bhp', '88 bhp', '63 bhp', '82.5 bhp', '364.9 bhp',\n",
              "       '107.2 bhp', '113.98 bhp', '126.3 bhp', '185 bhp', '237.4 bhp',\n",
              "       '99.6 bhp', '66.7 bhp', '160 bhp', '306 bhp', '98.59 bhp',\n",
              "       '92.7 bhp', '147.51 bhp', '197.2 bhp', '167.6 bhp', '165 bhp',\n",
              "       '110.4 bhp', '73.97 bhp', '147.9 bhp', '99 bhp', '116.6 bhp',\n",
              "       '148 bhp', '34.2 bhp', '155 bhp', '197 bhp', '108.62 bhp',\n",
              "       '118.3 bhp', '38.4 bhp', '241.38 bhp', '153.86 bhp', '163.5 bhp',\n",
              "       '226.6 bhp', '84.8 bhp', '53.64 bhp', '158.2 bhp', '69.01 bhp',\n",
              "       '181.03 bhp', '58.2 bhp', '104.68 bhp', '126.24 bhp', '73.75 bhp',\n",
              "       '158 bhp', '130.2 bhp', '57.5 bhp', '97.7 bhp', '121.4 bhp',\n",
              "       '98.96 bhp', '174.5 bhp', '308 bhp', '121.36 bhp', '138 bhp',\n",
              "       '265 bhp', '84 bhp', '321 bhp', '91.72 bhp', '65.3 bhp',\n",
              "       '88.2 bhp', '93 bhp', '35.5 bhp', '86.79 bhp', '157.7 bhp',\n",
              "       '40.3 bhp', '91.7 bhp', '180 bhp', '114.4 bhp', '158.8 bhp',\n",
              "       '157.8 bhp', '123.7 bhp', '56.3 bhp', '189 bhp', '104 bhp',\n",
              "       '210 bhp', '270.88 bhp', '142 bhp', '255 bhp', '236 bhp',\n",
              "       '167.7 bhp', '148.31 bhp', '80.46 bhp', '138.08 bhp', '250 bhp',\n",
              "       '74.9 bhp', '91.2 bhp', '102.57 bhp', '97.6 bhp', '102.53 bhp',\n",
              "       '240 bhp', '254 bhp', '112.4 bhp', '73.74 bhp', '108.495 bhp',\n",
              "       '116.9 bhp', '101 bhp', '320 bhp', '70.02 bhp', '261.49 bhp',\n",
              "       '105.5 bhp', '550 bhp', '168.7 bhp', '55.23 bhp', '94.68 bhp',\n",
              "       '152.88 bhp', '163.2 bhp', '203.2 bhp', '241 bhp', '95 bhp',\n",
              "       '200 bhp', '271.23 bhp', '63.12 bhp', '85.7 bhp', '308.43 bhp',\n",
              "       '118.6 bhp', '199.3 bhp', '83.83 bhp', '55 bhp', '83 bhp',\n",
              "       '300 bhp', '201 bhp', '262.6 bhp', '163 bhp', '58.33 bhp',\n",
              "       '86.76 bhp', '76.9 bhp', '174.57 bhp', '301.73 bhp', '68.1 bhp',\n",
              "       '162 bhp', '394.3 bhp', '80.9 bhp', '147.5 bhp', '272 bhp',\n",
              "       '340 bhp', '120.33 bhp', '82.4 bhp', '231.1 bhp', '335.3 bhp',\n",
              "       '333 bhp', '198.25 bhp', '224.34 bhp', '402 bhp', '261 bhp',\n",
              "       '61 bhp', '144 bhp', '71.01 bhp', '271.72 bhp', '134 bhp',\n",
              "       '135.1 bhp', '92 bhp', '64.08 bhp', '261.5 bhp', '123.37 bhp',\n",
              "       '175.67 bhp', '53 bhp', '110.5 bhp', '178.4 bhp', '193.1 bhp',\n",
              "       '395 bhp', '48.21 bhp', '450 bhp', '421 bhp', '89.75 bhp',\n",
              "       '387.3 bhp', '130.3 bhp', '281.61 bhp', '52.8 bhp', '139.01 bhp',\n",
              "       '208 bhp', '503 bhp', '168 bhp', '98.82 bhp', '139.07 bhp',\n",
              "       '83.11 bhp', '74.93 bhp', '382 bhp', '74.96 bhp', '552 bhp',\n",
              "       '127 bhp', '560 bhp', '116.4 bhp', '161.6 bhp', '488.1 bhp',\n",
              "       '103 bhp', '181.04 bhp'], dtype=object)"
            ]
          },
          "metadata": {},
          "execution_count": 25
        }
      ]
    },
    {
      "cell_type": "code",
      "source": [
        "#null 이 들어가있는 것을 확인할 수 있다\n",
        "#해당 항목들을 제거해준다\n",
        "delete = data[data.Power.str.split(\" \").str[0] == 'null'].index\n",
        "data = data.drop(delete)"
      ],
      "metadata": {
        "id": "lrEV6AYh0zO4"
      },
      "execution_count": 26,
      "outputs": []
    },
    {
      "cell_type": "code",
      "source": [
        "data.Power = data.Power.str.split(\" \").str[0].astype('float')"
      ],
      "metadata": {
        "id": "m30-kNi40zR0"
      },
      "execution_count": 27,
      "outputs": []
    },
    {
      "cell_type": "code",
      "source": [
        "data = data.drop(['Name'], axis = 1)\n",
        "data.info()\n",
        "#전처리가 완료된 것을 확인할 수 있다"
      ],
      "metadata": {
        "colab": {
          "base_uri": "https://localhost:8080/"
        },
        "id": "bBTBO7QB0zUt",
        "outputId": "823ee4d5-9b3d-440b-c5a4-63a910cb66a4"
      },
      "execution_count": 31,
      "outputs": [
        {
          "output_type": "stream",
          "name": "stdout",
          "text": [
            "<class 'pandas.core.frame.DataFrame'>\n",
            "Int64Index: 5872 entries, 0 to 6018\n",
            "Data columns (total 28 columns):\n",
            " #   Column             Non-Null Count  Dtype  \n",
            "---  ------             --------------  -----  \n",
            " 0   Year               5872 non-null   int64  \n",
            " 1   Kilometers_Driven  5872 non-null   int64  \n",
            " 2   Mileage            5872 non-null   float64\n",
            " 3   Engine             5872 non-null   float64\n",
            " 4   Power              5872 non-null   float64\n",
            " 5   Seats              5872 non-null   float64\n",
            " 6   Price              5872 non-null   float64\n",
            " 7   Mumbai             5872 non-null   uint8  \n",
            " 8   Pune               5872 non-null   uint8  \n",
            " 9   Chennai            5872 non-null   uint8  \n",
            " 10  Coimbatore         5872 non-null   uint8  \n",
            " 11  Hyderabad          5872 non-null   uint8  \n",
            " 12  Jaipur             5872 non-null   uint8  \n",
            " 13  Kochi              5872 non-null   uint8  \n",
            " 14  Kolkata            5872 non-null   uint8  \n",
            " 15  Delhi              5872 non-null   uint8  \n",
            " 16  Bangalore          5872 non-null   uint8  \n",
            " 17  Ahmedabad          5872 non-null   uint8  \n",
            " 18  CNG                5872 non-null   uint8  \n",
            " 19  Diesel             5872 non-null   uint8  \n",
            " 20  Petrol             5872 non-null   uint8  \n",
            " 21  LPG                5872 non-null   uint8  \n",
            " 22  Manual             5872 non-null   uint8  \n",
            " 23  Automatic          5872 non-null   uint8  \n",
            " 24  First              5872 non-null   uint8  \n",
            " 25  Second             5872 non-null   uint8  \n",
            " 26  Fourth & Above     5872 non-null   uint8  \n",
            " 27  Third              5872 non-null   uint8  \n",
            "dtypes: float64(5), int64(2), uint8(21)\n",
            "memory usage: 616.5 KB\n"
          ]
        }
      ]
    },
    {
      "cell_type": "markdown",
      "source": [
        "###회귀분석모델"
      ],
      "metadata": {
        "id": "C_0AvEB82J3j"
      }
    },
    {
      "cell_type": "code",
      "source": [
        "from sklearn.model_selection import train_test_split\n",
        "from sklearn.linear_model import LinearRegression\n",
        "from sklearn.linear_model import Ridge, Lasso\n",
        "from sklearn.metrics import mean_squared_error"
      ],
      "metadata": {
        "id": "6nwKtQej0zXE"
      },
      "execution_count": 29,
      "outputs": []
    },
    {
      "cell_type": "code",
      "source": [
        "#데이터셋을 train, test set으로 분류한다\n",
        "X = data.drop(['Price'], axis=1)\n",
        "y = data.Price\n",
        "\n",
        "X_train, X_test, y_train, y_test = train_test_split(X, y, test_size=0.2, random_state=0)"
      ],
      "metadata": {
        "id": "Zt8gxE2Z2NLo"
      },
      "execution_count": 32,
      "outputs": []
    },
    {
      "cell_type": "code",
      "source": [
        "#모델 선언 및 fitting\n",
        "model = LinearRegression()\n",
        "model.fit(X_train, y_train)"
      ],
      "metadata": {
        "colab": {
          "base_uri": "https://localhost:8080/"
        },
        "id": "tD2pPm2G2Nmf",
        "outputId": "4179fbb2-45be-48ab-ed3b-ae25ab263bab"
      },
      "execution_count": 33,
      "outputs": [
        {
          "output_type": "execute_result",
          "data": {
            "text/plain": [
              "LinearRegression()"
            ]
          },
          "metadata": {},
          "execution_count": 33
        }
      ]
    },
    {
      "cell_type": "markdown",
      "source": [
        "###결과 및 시각화"
      ],
      "metadata": {
        "id": "loERnG953L2L"
      }
    },
    {
      "cell_type": "code",
      "source": [
        "print(\" 모델의 절편 :\", model.intercept_)\n",
        "print(\" 모델의 계수 :\", model.coef_)"
      ],
      "metadata": {
        "colab": {
          "base_uri": "https://localhost:8080/"
        },
        "id": "RGrhG7iy3qnZ",
        "outputId": "63276bac-5e89-47d8-ab8c-af1e9a49bad7"
      },
      "execution_count": 38,
      "outputs": [
        {
          "output_type": "stream",
          "name": "stdout",
          "text": [
            " 모델의 절편 : -2025.776391504325\n",
            " 모델의 계수 : [ 1.00864184e+00  1.42302676e-06 -2.20743701e-01 -2.82983376e-04\n",
            "  1.32646026e-01 -8.18643717e-01 -2.76493284e-01  9.29233068e-01\n",
            "  1.39388653e-01  1.62692826e+00 -5.27093378e-01  1.35651528e+00\n",
            "  2.97892981e-01 -4.24482036e-01 -1.40033754e+00 -1.59265008e+00\n",
            " -1.28901922e-01  1.29397243e+00 -1.30894706e-01  1.38407584e+00\n",
            " -2.54715356e+00  1.25800156e+00 -1.25800156e+00  2.91300380e-02\n",
            " -2.98526340e-01 -5.63105802e-01  8.32502104e-01]\n"
          ]
        }
      ]
    },
    {
      "cell_type": "code",
      "source": [
        "pred = model.predict(X_train)\n",
        "print(\"mse :\" ,mean_squared_error(y_train, pred))"
      ],
      "metadata": {
        "colab": {
          "base_uri": "https://localhost:8080/"
        },
        "id": "KfidJbdL4A3N",
        "outputId": "3f754241-c3fc-410c-8cdf-b28f39107f7a"
      },
      "execution_count": 40,
      "outputs": [
        {
          "output_type": "stream",
          "name": "stdout",
          "text": [
            "mse : 36.85384140973631\n"
          ]
        }
      ]
    },
    {
      "cell_type": "code",
      "source": [
        "import matplotlib.pyplot as plt"
      ],
      "metadata": {
        "id": "VjlX3n6L6ZTl"
      },
      "execution_count": 49,
      "outputs": []
    },
    {
      "cell_type": "code",
      "source": [
        "#약간 벗어나게 예측한 것을 알 수 있다\n",
        "#상관계수가 높은 변수들을 삭제하는 등 처리를 거쳐 정확도를 더욱 향상시킬 수 있을 것 같다\n",
        "plt.plot(y_test, model.predict(X_test), '.')\n",
        "x = np.linspace(0, 60, 60)\n",
        "y=x\n",
        "plt.plot(x, y)"
      ],
      "metadata": {
        "colab": {
          "base_uri": "https://localhost:8080/",
          "height": 283
        },
        "id": "1rOZN_dT3hvs",
        "outputId": "4bdcd16d-b71c-4fe2-e10c-5ba0ad22eb4b"
      },
      "execution_count": 52,
      "outputs": [
        {
          "output_type": "execute_result",
          "data": {
            "text/plain": [
              "[<matplotlib.lines.Line2D at 0x7f9df74c7dd0>]"
            ]
          },
          "metadata": {},
          "execution_count": 52
        },
        {
          "output_type": "display_data",
          "data": {
            "text/plain": [
              "<Figure size 432x288 with 1 Axes>"
            ],
            "image/png": "[encoded data removed]"
          },
          "metadata": {
            "needs_background": "light"
          }
        }
      ]
    },
    {
      "cell_type": "code",
      "source": [
        ""
      ],
      "metadata": {
        "id": "kJsmr-ik65p7"
      },
      "execution_count": null,
      "outputs": []
    }
  ],
  "metadata": {
    "colab": {
      "collapsed_sections": [],
      "name": "[투빅스 18기 정규세션] 2주차 Regression_과제 2.ipynb",
      "provenance": []
    },
    "kernelspec": {
      "display_name": "Python 3",
      "language": "python",
      "name": "python3"
    },
    "language_info": {
      "codemirror_mode": {
        "name": "ipython",
        "version": 3
      },
      "file_extension": ".py",
      "mimetype": "text/x-python",
      "name": "python",
      "nbconvert_exporter": "python",
      "pygments_lexer": "ipython3",
      "version": "3.8.5"
    }
  },
  "nbformat": 4,
  "nbformat_minor": 0
}